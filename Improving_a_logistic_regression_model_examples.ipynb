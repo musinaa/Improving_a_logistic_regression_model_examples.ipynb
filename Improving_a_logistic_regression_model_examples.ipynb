{
  "cells": [
    {
      "cell_type": "markdown",
      "metadata": {
        "id": "view-in-github",
        "colab_type": "text"
      },
      "source": [
        "<a href=\"https://colab.research.google.com/github/musinaa/Improving_a_logistic_regression_model_examples.ipynb/blob/eda/Improving_a_logistic_regression_model_examples.ipynb\" target=\"_parent\"><img src=\"https://colab.research.google.com/assets/colab-badge.svg\" alt=\"Open In Colab\"/></a>"
      ]
    },
    {
      "cell_type": "markdown",
      "id": "f662d169",
      "metadata": {
        "id": "f662d169"
      },
      "source": [
        "# Examples: Improving a logistic regression model\n"
      ]
    },
    {
      "cell_type": "markdown",
      "id": "26af890c",
      "metadata": {
        "id": "26af890c"
      },
      "source": [
        "In this train, we'll rebuild and evaluate logistic regression models through performance metrics to enhance prediction accuracy."
      ]
    },
    {
      "cell_type": "markdown",
      "id": "2d230d14",
      "metadata": {
        "tags": [],
        "id": "2d230d14"
      },
      "source": [
        "## Learning objectives\n",
        "\n",
        "By the end of this train, you should be able to:\n",
        "- Rebuild a logistic regression model for improved accuracy.\n",
        "- Assess model performance accurately using the confusion matrix and classification report.\n",
        "- Understand the evaluation of binary classifiers, particularly in the context of class imbalance, and become familiar with metrics such as accuracy, precision, recall, and F1 score."
      ]
    },
    {
      "cell_type": "markdown",
      "id": "2099fd18",
      "metadata": {
        "id": "2099fd18"
      },
      "source": [
        "## Examples\n",
        "\n",
        "This train is structured as follows:\n",
        "\n",
        "1. Rebuild our Wisconsin Breast Cancer classifier.\n",
        "2. Use feature subset selection to create a sparse model.\n",
        "3. Tune the logistic regression model hyperparameter."
      ]
    },
    {
      "cell_type": "markdown",
      "id": "8570a727",
      "metadata": {
        "id": "8570a727"
      },
      "source": [
        "### Example 1: Rebuilding the Breast Cancer classifier\n",
        "\n",
        "Let's explore the potential of logistic regression in diagnosing breast cancer, utilising the **Wisconsin Breast Cancer dataset**. This dataset includes 30 continuous features and a binary target indicating tumour malignancy. Our aim is to enhance model precision in distinguishing between benign (1) and malignant (0) cases."
      ]
    },
    {
      "cell_type": "markdown",
      "id": "513f953b",
      "metadata": {
        "id": "513f953b"
      },
      "source": [
        "We'll start by making the necessary imports:\n",
        "\n",
        "* `numpy` for numerical operations.\n",
        "* `pandas` for data manipulation.\n",
        "* `matplotlib` for plotting graphs.  \n",
        "* `%matplotlib inline` to ensure that plots are displayed inline within the notebook.\n",
        "* `load_breast_cancer` function provides access to the Wisconsin Breast Cancer dataset.\n",
        "* `classification_report` function for assessing the performance of classification models by providing key metrics such as precision, recall, F1 score, and accuracy for each class."
      ]
    },
    {
      "cell_type": "code",
      "execution_count": 1,
      "id": "cab506c2",
      "metadata": {
        "id": "cab506c2"
      },
      "outputs": [],
      "source": [
        "import numpy as np\n",
        "import pandas as pd\n",
        "import matplotlib.pyplot as plt\n",
        "%matplotlib inline\n",
        "\n",
        "# Import dataset\n",
        "from sklearn.datasets import load_breast_cancer\n",
        "\n",
        "# For precision, recall, etc.\n",
        "from sklearn.metrics import classification_report"
      ]
    },
    {
      "cell_type": "markdown",
      "id": "9addd397",
      "metadata": {
        "id": "9addd397"
      },
      "source": [
        "We'll then load the breast cancer dataset by calling the `load_breast_cancer` function with the parameter `return_X_y=True`. This instructs the function to return the dataset split into features and target variables, which are assigned to `X` and `y`, respectively."
      ]
    },
    {
      "cell_type": "code",
      "execution_count": 3,
      "id": "f002bad1",
      "metadata": {
        "colab": {
          "base_uri": "https://localhost:8080/"
        },
        "id": "f002bad1",
        "outputId": "6694370b-38d8-414f-ec23-66dea3486a3f"
      },
      "outputs": [
        {
          "output_type": "execute_result",
          "data": {
            "text/plain": [
              "(array([[1.799e+01, 1.038e+01, 1.228e+02, ..., 2.654e-01, 4.601e-01,\n",
              "         1.189e-01],\n",
              "        [2.057e+01, 1.777e+01, 1.329e+02, ..., 1.860e-01, 2.750e-01,\n",
              "         8.902e-02],\n",
              "        [1.969e+01, 2.125e+01, 1.300e+02, ..., 2.430e-01, 3.613e-01,\n",
              "         8.758e-02],\n",
              "        ...,\n",
              "        [1.660e+01, 2.808e+01, 1.083e+02, ..., 1.418e-01, 2.218e-01,\n",
              "         7.820e-02],\n",
              "        [2.060e+01, 2.933e+01, 1.401e+02, ..., 2.650e-01, 4.087e-01,\n",
              "         1.240e-01],\n",
              "        [7.760e+00, 2.454e+01, 4.792e+01, ..., 0.000e+00, 2.871e-01,\n",
              "         7.039e-02]]),\n",
              " array([0, 0, 0, 0, 0, 0, 0, 0, 0, 0, 0, 0, 0, 0, 0, 0, 0, 0, 0, 1, 1, 1,\n",
              "        0, 0, 0, 0, 0, 0, 0, 0, 0, 0, 0, 0, 0, 0, 0, 1, 0, 0, 0, 0, 0, 0,\n",
              "        0, 0, 1, 0, 1, 1, 1, 1, 1, 0, 0, 1, 0, 0, 1, 1, 1, 1, 0, 1, 0, 0,\n",
              "        1, 1, 1, 1, 0, 1, 0, 0, 1, 0, 1, 0, 0, 1, 1, 1, 0, 0, 1, 0, 0, 0,\n",
              "        1, 1, 1, 0, 1, 1, 0, 0, 1, 1, 1, 0, 0, 1, 1, 1, 1, 0, 1, 1, 0, 1,\n",
              "        1, 1, 1, 1, 1, 1, 1, 0, 0, 0, 1, 0, 0, 1, 1, 1, 0, 0, 1, 0, 1, 0,\n",
              "        0, 1, 0, 0, 1, 1, 0, 1, 1, 0, 1, 1, 1, 1, 0, 1, 1, 1, 1, 1, 1, 1,\n",
              "        1, 1, 0, 1, 1, 1, 1, 0, 0, 1, 0, 1, 1, 0, 0, 1, 1, 0, 0, 1, 1, 1,\n",
              "        1, 0, 1, 1, 0, 0, 0, 1, 0, 1, 0, 1, 1, 1, 0, 1, 1, 0, 0, 1, 0, 0,\n",
              "        0, 0, 1, 0, 0, 0, 1, 0, 1, 0, 1, 1, 0, 1, 0, 0, 0, 0, 1, 1, 0, 0,\n",
              "        1, 1, 1, 0, 1, 1, 1, 1, 1, 0, 0, 1, 1, 0, 1, 1, 0, 0, 1, 0, 1, 1,\n",
              "        1, 1, 0, 1, 1, 1, 1, 1, 0, 1, 0, 0, 0, 0, 0, 0, 0, 0, 0, 0, 0, 0,\n",
              "        0, 0, 1, 1, 1, 1, 1, 1, 0, 1, 0, 1, 1, 0, 1, 1, 0, 1, 0, 0, 1, 1,\n",
              "        1, 1, 1, 1, 1, 1, 1, 1, 1, 1, 1, 0, 1, 1, 0, 1, 0, 1, 1, 1, 1, 1,\n",
              "        1, 1, 1, 1, 1, 1, 1, 1, 1, 0, 1, 1, 1, 0, 1, 0, 1, 1, 1, 1, 0, 0,\n",
              "        0, 1, 1, 1, 1, 0, 1, 0, 1, 0, 1, 1, 1, 0, 1, 1, 1, 1, 1, 1, 1, 0,\n",
              "        0, 0, 1, 1, 1, 1, 1, 1, 1, 1, 1, 1, 1, 0, 0, 1, 0, 0, 0, 1, 0, 0,\n",
              "        1, 1, 1, 1, 1, 0, 1, 1, 1, 1, 1, 0, 1, 1, 1, 0, 1, 1, 0, 0, 1, 1,\n",
              "        1, 1, 1, 1, 0, 1, 1, 1, 1, 1, 1, 1, 0, 1, 1, 1, 1, 1, 0, 1, 1, 0,\n",
              "        1, 1, 1, 1, 1, 1, 1, 1, 1, 1, 1, 1, 0, 1, 0, 0, 1, 0, 1, 1, 1, 1,\n",
              "        1, 0, 1, 1, 0, 1, 0, 1, 1, 0, 1, 0, 1, 1, 1, 1, 1, 1, 1, 1, 0, 0,\n",
              "        1, 1, 1, 1, 1, 1, 0, 1, 1, 1, 1, 1, 1, 1, 1, 1, 1, 0, 1, 1, 1, 1,\n",
              "        1, 1, 1, 0, 1, 0, 1, 1, 0, 1, 1, 1, 1, 1, 0, 0, 1, 0, 1, 0, 1, 1,\n",
              "        1, 1, 1, 0, 1, 1, 0, 1, 0, 1, 0, 0, 1, 1, 1, 0, 1, 1, 1, 1, 1, 1,\n",
              "        1, 1, 1, 1, 1, 0, 1, 0, 0, 1, 1, 1, 1, 1, 1, 1, 1, 1, 1, 1, 1, 1,\n",
              "        1, 1, 1, 1, 1, 1, 1, 1, 1, 1, 1, 1, 0, 0, 0, 0, 0, 0, 1]))"
            ]
          },
          "metadata": {},
          "execution_count": 3
        }
      ],
      "source": [
        "X, y = load_breast_cancer(return_X_y=True)\n",
        "X, y"
      ]
    },
    {
      "cell_type": "markdown",
      "id": "df5305ef",
      "metadata": {
        "id": "df5305ef"
      },
      "source": [
        "Remember to perform data scaling of the data during preprocessing for all machine learning tasks as _scaling_ puts all our features into the same range."
      ]
    },
    {
      "cell_type": "code",
      "execution_count": 5,
      "id": "c71e2b4b",
      "metadata": {
        "colab": {
          "base_uri": "https://localhost:8080/"
        },
        "id": "c71e2b4b",
        "outputId": "d7a32727-ba50-4849-86b5-72045b81df1d"
      },
      "outputs": [
        {
          "output_type": "execute_result",
          "data": {
            "text/plain": [
              "array([[0.52103744, 0.0226581 , 0.54598853, ..., 0.91202749, 0.59846245,\n",
              "        0.41886396],\n",
              "       [0.64314449, 0.27257355, 0.61578329, ..., 0.63917526, 0.23358959,\n",
              "        0.22287813],\n",
              "       [0.60149557, 0.3902604 , 0.59574321, ..., 0.83505155, 0.40370589,\n",
              "        0.21343303],\n",
              "       ...,\n",
              "       [0.45525108, 0.62123774, 0.44578813, ..., 0.48728522, 0.12872068,\n",
              "        0.1519087 ],\n",
              "       [0.64456434, 0.66351031, 0.66553797, ..., 0.91065292, 0.49714173,\n",
              "        0.45231536],\n",
              "       [0.03686876, 0.50152181, 0.02853984, ..., 0.        , 0.25744136,\n",
              "        0.10068215]])"
            ]
          },
          "metadata": {},
          "execution_count": 5
        }
      ],
      "source": [
        "# Import the scaler module\n",
        "from sklearn import preprocessing\n",
        "scaler = preprocessing.MinMaxScaler()\n",
        "\n",
        "# Scale data\n",
        "X_scaled = scaler.fit_transform(X)\n",
        "X_scaled"
      ]
    },
    {
      "cell_type": "markdown",
      "id": "da647bde",
      "metadata": {
        "id": "da647bde"
      },
      "source": [
        "We can now split the scaled features `X_scaled` and target `y` into training and testing sets. We'll reserve 20% of the data for testing (`test_size=0.2`) and ensure reproducibility by setting a `random_state`."
      ]
    },
    {
      "cell_type": "code",
      "execution_count": 6,
      "id": "2c90ebdc",
      "metadata": {
        "id": "2c90ebdc"
      },
      "outputs": [],
      "source": [
        "from sklearn.model_selection import train_test_split\n",
        "\n",
        "# Split into train and test\n",
        "X_train, X_test, y_train, y_test = train_test_split(X_scaled, y, test_size=0.2, random_state=10)"
      ]
    },
    {
      "cell_type": "code",
      "execution_count": 7,
      "id": "fa65fb9e",
      "metadata": {
        "id": "fa65fb9e"
      },
      "outputs": [],
      "source": [
        "from sklearn.linear_model import LogisticRegression"
      ]
    },
    {
      "cell_type": "markdown",
      "id": "409adea9",
      "metadata": {
        "id": "409adea9"
      },
      "source": [
        "### Example 2: Using feature subset selection to create a sparse model\n",
        "\n",
        "In general, given a particular model and a dataset, there are two categories of change we can make to try and improve the model once it has been trained with default parameters:\n",
        "\n",
        "1. We can change/reduce which features the model was trained on.\n",
        "2. We can tweak what are known as model hyperparameters.\n",
        "\n",
        "For both methods, the benchmark performance metrics we will use (within classification tasks) are precision, recall, and F1 score. In other words, after making our changes, we will compare the results for each of those metrics to the default model to determine if an improvement has been made.\n",
        "\n",
        "We'll start with the first method and change which features the model is trained on. Assuming the default model was trained using all the features, any change we undertake will invariably reduce the number of features we use. A model trained using some subset of all the available features is known as a _sparse model_.\n",
        "\n",
        "We'll create four models to compare. In so doing, we'll cover some of the feature subset selection methods available for classification that you may be able to use in the course and your career going forward:\n",
        "\n",
        "1. Full model – using all features (reference model).\n",
        "2. Variance thresholding.\n",
        "3. Select k-best features.\n",
        "4. Sequential forward selection."
      ]
    },
    {
      "cell_type": "markdown",
      "id": "7bd85b52",
      "metadata": {
        "id": "7bd85b52"
      },
      "source": [
        "An important note here: Always split your dataset into train/test folds _before_ performing feature selection. This prevents what is known as data leakage, where some of the 'unseen' data are exposed to the model during the training process, which would in turn inflate its test set accuracy later on. Take a quick read through the [tweet below](https://twitter.com/jmschreiber91/status/1137464236156702720?s=20) for some more context.\n",
        "\n",
        "<img src=\"https://raw.githubusercontent.com/Explore-AI/Pictures/master/split-tweet.jpg\" alt=\"train/test split ordering tweet\" width=\"400px;\">"
      ]
    },
    {
      "cell_type": "markdown",
      "id": "4b34a0f3",
      "metadata": {
        "id": "4b34a0f3"
      },
      "source": [
        "For each method, we'll perform the feature selection on both the train and test sets – ensuring the model is tested on data with the same features it was trained on."
      ]
    },
    {
      "cell_type": "markdown",
      "id": "05d500d9",
      "metadata": {
        "id": "05d500d9"
      },
      "source": [
        "#### 1. Full model (no selection)\n",
        "\n",
        "In order to have a reference model, we'll build a logistic regression classifier using all the features."
      ]
    },
    {
      "cell_type": "code",
      "execution_count": 8,
      "id": "18e82a1a",
      "metadata": {
        "id": "18e82a1a"
      },
      "outputs": [],
      "source": [
        "lm_full = LogisticRegression()"
      ]
    },
    {
      "cell_type": "markdown",
      "id": "6ab27c4a",
      "metadata": {
        "id": "6ab27c4a"
      },
      "source": [
        "We'll need to standardise our features here to ensure the model is able to converge."
      ]
    },
    {
      "cell_type": "code",
      "execution_count": 9,
      "id": "db92c73d",
      "metadata": {
        "colab": {
          "base_uri": "https://localhost:8080/",
          "height": 74
        },
        "id": "db92c73d",
        "outputId": "0730a720-117b-4a48-a2b8-80f07a016008"
      },
      "outputs": [
        {
          "output_type": "execute_result",
          "data": {
            "text/plain": [
              "LogisticRegression()"
            ],
            "text/html": [
              "<style>#sk-container-id-1 {color: black;background-color: white;}#sk-container-id-1 pre{padding: 0;}#sk-container-id-1 div.sk-toggleable {background-color: white;}#sk-container-id-1 label.sk-toggleable__label {cursor: pointer;display: block;width: 100%;margin-bottom: 0;padding: 0.3em;box-sizing: border-box;text-align: center;}#sk-container-id-1 label.sk-toggleable__label-arrow:before {content: \"▸\";float: left;margin-right: 0.25em;color: #696969;}#sk-container-id-1 label.sk-toggleable__label-arrow:hover:before {color: black;}#sk-container-id-1 div.sk-estimator:hover label.sk-toggleable__label-arrow:before {color: black;}#sk-container-id-1 div.sk-toggleable__content {max-height: 0;max-width: 0;overflow: hidden;text-align: left;background-color: #f0f8ff;}#sk-container-id-1 div.sk-toggleable__content pre {margin: 0.2em;color: black;border-radius: 0.25em;background-color: #f0f8ff;}#sk-container-id-1 input.sk-toggleable__control:checked~div.sk-toggleable__content {max-height: 200px;max-width: 100%;overflow: auto;}#sk-container-id-1 input.sk-toggleable__control:checked~label.sk-toggleable__label-arrow:before {content: \"▾\";}#sk-container-id-1 div.sk-estimator input.sk-toggleable__control:checked~label.sk-toggleable__label {background-color: #d4ebff;}#sk-container-id-1 div.sk-label input.sk-toggleable__control:checked~label.sk-toggleable__label {background-color: #d4ebff;}#sk-container-id-1 input.sk-hidden--visually {border: 0;clip: rect(1px 1px 1px 1px);clip: rect(1px, 1px, 1px, 1px);height: 1px;margin: -1px;overflow: hidden;padding: 0;position: absolute;width: 1px;}#sk-container-id-1 div.sk-estimator {font-family: monospace;background-color: #f0f8ff;border: 1px dotted black;border-radius: 0.25em;box-sizing: border-box;margin-bottom: 0.5em;}#sk-container-id-1 div.sk-estimator:hover {background-color: #d4ebff;}#sk-container-id-1 div.sk-parallel-item::after {content: \"\";width: 100%;border-bottom: 1px solid gray;flex-grow: 1;}#sk-container-id-1 div.sk-label:hover label.sk-toggleable__label {background-color: #d4ebff;}#sk-container-id-1 div.sk-serial::before {content: \"\";position: absolute;border-left: 1px solid gray;box-sizing: border-box;top: 0;bottom: 0;left: 50%;z-index: 0;}#sk-container-id-1 div.sk-serial {display: flex;flex-direction: column;align-items: center;background-color: white;padding-right: 0.2em;padding-left: 0.2em;position: relative;}#sk-container-id-1 div.sk-item {position: relative;z-index: 1;}#sk-container-id-1 div.sk-parallel {display: flex;align-items: stretch;justify-content: center;background-color: white;position: relative;}#sk-container-id-1 div.sk-item::before, #sk-container-id-1 div.sk-parallel-item::before {content: \"\";position: absolute;border-left: 1px solid gray;box-sizing: border-box;top: 0;bottom: 0;left: 50%;z-index: -1;}#sk-container-id-1 div.sk-parallel-item {display: flex;flex-direction: column;z-index: 1;position: relative;background-color: white;}#sk-container-id-1 div.sk-parallel-item:first-child::after {align-self: flex-end;width: 50%;}#sk-container-id-1 div.sk-parallel-item:last-child::after {align-self: flex-start;width: 50%;}#sk-container-id-1 div.sk-parallel-item:only-child::after {width: 0;}#sk-container-id-1 div.sk-dashed-wrapped {border: 1px dashed gray;margin: 0 0.4em 0.5em 0.4em;box-sizing: border-box;padding-bottom: 0.4em;background-color: white;}#sk-container-id-1 div.sk-label label {font-family: monospace;font-weight: bold;display: inline-block;line-height: 1.2em;}#sk-container-id-1 div.sk-label-container {text-align: center;}#sk-container-id-1 div.sk-container {/* jupyter's `normalize.less` sets `[hidden] { display: none; }` but bootstrap.min.css set `[hidden] { display: none !important; }` so we also need the `!important` here to be able to override the default hidden behavior on the sphinx rendered scikit-learn.org. See: https://github.com/scikit-learn/scikit-learn/issues/21755 */display: inline-block !important;position: relative;}#sk-container-id-1 div.sk-text-repr-fallback {display: none;}</style><div id=\"sk-container-id-1\" class=\"sk-top-container\"><div class=\"sk-text-repr-fallback\"><pre>LogisticRegression()</pre><b>In a Jupyter environment, please rerun this cell to show the HTML representation or trust the notebook. <br />On GitHub, the HTML representation is unable to render, please try loading this page with nbviewer.org.</b></div><div class=\"sk-container\" hidden><div class=\"sk-item\"><div class=\"sk-estimator sk-toggleable\"><input class=\"sk-toggleable__control sk-hidden--visually\" id=\"sk-estimator-id-1\" type=\"checkbox\" checked><label for=\"sk-estimator-id-1\" class=\"sk-toggleable__label sk-toggleable__label-arrow\">LogisticRegression</label><div class=\"sk-toggleable__content\"><pre>LogisticRegression()</pre></div></div></div></div></div>"
            ]
          },
          "metadata": {},
          "execution_count": 9
        }
      ],
      "source": [
        "# No transformations necessary\n",
        "lm_full.fit(X_train, y_train)"
      ]
    },
    {
      "cell_type": "code",
      "execution_count": 11,
      "id": "6193d1f9",
      "metadata": {
        "colab": {
          "base_uri": "https://localhost:8080/"
        },
        "id": "6193d1f9",
        "outputId": "16b35cc8-29d2-4164-8d54-b82de0ae68dd"
      },
      "outputs": [
        {
          "output_type": "execute_result",
          "data": {
            "text/plain": [
              "array([0, 1, 1, 0, 1, 1, 1, 1, 0, 0, 1, 1, 0, 1, 0, 0, 1, 1, 1, 1, 0, 0,\n",
              "       1, 1, 0, 0, 1, 0, 1, 1, 1, 1, 0, 1, 1, 1, 1, 1, 1, 1, 1, 1, 1, 0,\n",
              "       1, 0, 0, 0, 0, 1, 1, 1, 0, 1, 1, 0, 0, 1, 1, 1, 0, 1, 0, 0, 1, 1,\n",
              "       1, 1, 0, 0, 1, 1, 1, 1, 1, 0, 1, 1, 0, 0, 1, 1, 0, 1, 1, 1, 1, 1,\n",
              "       1, 1, 1, 1, 0, 1, 1, 1, 0, 1, 0, 1, 0, 0, 1, 1, 1, 1, 0, 0, 1, 1,\n",
              "       1, 1, 0, 0])"
            ]
          },
          "metadata": {},
          "execution_count": 11
        }
      ],
      "source": [
        "# Generate predictions from full model\n",
        "pred_lm_full = lm_full.predict(X_test)\n",
        "pred_lm_full"
      ]
    },
    {
      "cell_type": "markdown",
      "id": "00d20b25",
      "metadata": {
        "id": "00d20b25"
      },
      "source": [
        "#### 2. Selection by variance thresholding\n",
        "\n",
        "As you may recall, variance thresholding is a process by which we remove features which don't meet some minimum level of variance."
      ]
    },
    {
      "cell_type": "markdown",
      "id": "1651784d",
      "metadata": {
        "id": "1651784d"
      },
      "source": [
        "<img src=\"https://raw.githubusercontent.com/Explore-AI/Pictures/master/sketch-var-thresh.png\" alt=\"sketch-var-thresh\" width=\"500px;\"/>"
      ]
    },
    {
      "cell_type": "code",
      "execution_count": 12,
      "id": "b30c02d7",
      "metadata": {
        "id": "b30c02d7"
      },
      "outputs": [],
      "source": [
        "# lm instance for var thresh\n",
        "lm_vt = LogisticRegression()"
      ]
    },
    {
      "cell_type": "markdown",
      "id": "54333c42",
      "metadata": {
        "id": "54333c42"
      },
      "source": [
        "When we apply the transformation (i.e. run feature selection) on the training set, we are fitting the transformation: `fit_transform(train_data)`. In order to apply the same transformation to the test set, we only need to transform it, not fit it: `transform(test_data)`."
      ]
    },
    {
      "cell_type": "code",
      "execution_count": 13,
      "id": "cb56d23a",
      "metadata": {
        "id": "cb56d23a"
      },
      "outputs": [],
      "source": [
        "# Import the var thresh model and choose a threshold\n",
        "from sklearn.feature_selection import VarianceThreshold\n",
        "selector = VarianceThreshold(threshold=0.02)\n",
        "\n",
        "# Transform (i.e.: run selection on) the training data\n",
        "X_train_vt = selector.fit_transform(X_train)"
      ]
    },
    {
      "cell_type": "code",
      "execution_count": 14,
      "id": "97dcecfb",
      "metadata": {
        "colab": {
          "base_uri": "https://localhost:8080/"
        },
        "id": "97dcecfb",
        "outputId": "0909207b-322d-412f-aab1-c2dc884792b4"
      },
      "outputs": [
        {
          "output_type": "execute_result",
          "data": {
            "text/plain": [
              "(455, 15)"
            ]
          },
          "metadata": {},
          "execution_count": 14
        }
      ],
      "source": [
        "X_train_vt.shape"
      ]
    },
    {
      "cell_type": "markdown",
      "id": "8a76ac1b",
      "metadata": {
        "id": "8a76ac1b"
      },
      "source": [
        "Using a variance threshold of 0.02, we have managed to trim the number of features in the training dataset from 30 down to 15."
      ]
    },
    {
      "cell_type": "code",
      "execution_count": 15,
      "id": "4583ac27",
      "metadata": {
        "colab": {
          "base_uri": "https://localhost:8080/",
          "height": 74
        },
        "id": "4583ac27",
        "outputId": "1ef2046a-79d6-4585-8b65-1c367b3cb571"
      },
      "outputs": [
        {
          "output_type": "execute_result",
          "data": {
            "text/plain": [
              "LogisticRegression()"
            ],
            "text/html": [
              "<style>#sk-container-id-2 {color: black;background-color: white;}#sk-container-id-2 pre{padding: 0;}#sk-container-id-2 div.sk-toggleable {background-color: white;}#sk-container-id-2 label.sk-toggleable__label {cursor: pointer;display: block;width: 100%;margin-bottom: 0;padding: 0.3em;box-sizing: border-box;text-align: center;}#sk-container-id-2 label.sk-toggleable__label-arrow:before {content: \"▸\";float: left;margin-right: 0.25em;color: #696969;}#sk-container-id-2 label.sk-toggleable__label-arrow:hover:before {color: black;}#sk-container-id-2 div.sk-estimator:hover label.sk-toggleable__label-arrow:before {color: black;}#sk-container-id-2 div.sk-toggleable__content {max-height: 0;max-width: 0;overflow: hidden;text-align: left;background-color: #f0f8ff;}#sk-container-id-2 div.sk-toggleable__content pre {margin: 0.2em;color: black;border-radius: 0.25em;background-color: #f0f8ff;}#sk-container-id-2 input.sk-toggleable__control:checked~div.sk-toggleable__content {max-height: 200px;max-width: 100%;overflow: auto;}#sk-container-id-2 input.sk-toggleable__control:checked~label.sk-toggleable__label-arrow:before {content: \"▾\";}#sk-container-id-2 div.sk-estimator input.sk-toggleable__control:checked~label.sk-toggleable__label {background-color: #d4ebff;}#sk-container-id-2 div.sk-label input.sk-toggleable__control:checked~label.sk-toggleable__label {background-color: #d4ebff;}#sk-container-id-2 input.sk-hidden--visually {border: 0;clip: rect(1px 1px 1px 1px);clip: rect(1px, 1px, 1px, 1px);height: 1px;margin: -1px;overflow: hidden;padding: 0;position: absolute;width: 1px;}#sk-container-id-2 div.sk-estimator {font-family: monospace;background-color: #f0f8ff;border: 1px dotted black;border-radius: 0.25em;box-sizing: border-box;margin-bottom: 0.5em;}#sk-container-id-2 div.sk-estimator:hover {background-color: #d4ebff;}#sk-container-id-2 div.sk-parallel-item::after {content: \"\";width: 100%;border-bottom: 1px solid gray;flex-grow: 1;}#sk-container-id-2 div.sk-label:hover label.sk-toggleable__label {background-color: #d4ebff;}#sk-container-id-2 div.sk-serial::before {content: \"\";position: absolute;border-left: 1px solid gray;box-sizing: border-box;top: 0;bottom: 0;left: 50%;z-index: 0;}#sk-container-id-2 div.sk-serial {display: flex;flex-direction: column;align-items: center;background-color: white;padding-right: 0.2em;padding-left: 0.2em;position: relative;}#sk-container-id-2 div.sk-item {position: relative;z-index: 1;}#sk-container-id-2 div.sk-parallel {display: flex;align-items: stretch;justify-content: center;background-color: white;position: relative;}#sk-container-id-2 div.sk-item::before, #sk-container-id-2 div.sk-parallel-item::before {content: \"\";position: absolute;border-left: 1px solid gray;box-sizing: border-box;top: 0;bottom: 0;left: 50%;z-index: -1;}#sk-container-id-2 div.sk-parallel-item {display: flex;flex-direction: column;z-index: 1;position: relative;background-color: white;}#sk-container-id-2 div.sk-parallel-item:first-child::after {align-self: flex-end;width: 50%;}#sk-container-id-2 div.sk-parallel-item:last-child::after {align-self: flex-start;width: 50%;}#sk-container-id-2 div.sk-parallel-item:only-child::after {width: 0;}#sk-container-id-2 div.sk-dashed-wrapped {border: 1px dashed gray;margin: 0 0.4em 0.5em 0.4em;box-sizing: border-box;padding-bottom: 0.4em;background-color: white;}#sk-container-id-2 div.sk-label label {font-family: monospace;font-weight: bold;display: inline-block;line-height: 1.2em;}#sk-container-id-2 div.sk-label-container {text-align: center;}#sk-container-id-2 div.sk-container {/* jupyter's `normalize.less` sets `[hidden] { display: none; }` but bootstrap.min.css set `[hidden] { display: none !important; }` so we also need the `!important` here to be able to override the default hidden behavior on the sphinx rendered scikit-learn.org. See: https://github.com/scikit-learn/scikit-learn/issues/21755 */display: inline-block !important;position: relative;}#sk-container-id-2 div.sk-text-repr-fallback {display: none;}</style><div id=\"sk-container-id-2\" class=\"sk-top-container\"><div class=\"sk-text-repr-fallback\"><pre>LogisticRegression()</pre><b>In a Jupyter environment, please rerun this cell to show the HTML representation or trust the notebook. <br />On GitHub, the HTML representation is unable to render, please try loading this page with nbviewer.org.</b></div><div class=\"sk-container\" hidden><div class=\"sk-item\"><div class=\"sk-estimator sk-toggleable\"><input class=\"sk-toggleable__control sk-hidden--visually\" id=\"sk-estimator-id-2\" type=\"checkbox\" checked><label for=\"sk-estimator-id-2\" class=\"sk-toggleable__label sk-toggleable__label-arrow\">LogisticRegression</label><div class=\"sk-toggleable__content\"><pre>LogisticRegression()</pre></div></div></div></div></div>"
            ]
          },
          "metadata": {},
          "execution_count": 15
        }
      ],
      "source": [
        "# Fit model to the transformed data\n",
        "lm_vt.fit(X_train_vt, y_train)"
      ]
    },
    {
      "cell_type": "code",
      "execution_count": 16,
      "id": "95fc79de",
      "metadata": {
        "id": "95fc79de"
      },
      "outputs": [],
      "source": [
        "# Now we'll need to remove the same features we did in the thresholding process\n",
        "X_test_vt = selector.transform(X_test)\n",
        "\n",
        "# Generate predictions from var thresh model\n",
        "pred_lm_vt = lm_vt.predict(X_test_vt)"
      ]
    },
    {
      "cell_type": "markdown",
      "id": "858a19ae",
      "metadata": {
        "id": "858a19ae"
      },
      "source": [
        "#### 3. Selection by choosing k-best features\n",
        "\n",
        "`SelectKBest` is a feature selection module in `sklearn` which removes all but the _k_ highest scoring features according to some specified statistical test. In this case, we'll use `f_classif` as the test, which we specify in the `score_func` argument in the `SelectKBest` method.\n",
        "\n",
        "`f_classif` computes the ANOVA f-value between each label and feature – read up [more on it here](https://www.statisticshowto.com/probability-and-statistics/f-statistic-value-test/)."
      ]
    },
    {
      "cell_type": "markdown",
      "id": "67db8e86",
      "metadata": {
        "id": "67db8e86"
      },
      "source": [
        "<img src=\"https://raw.githubusercontent.com/Explore-AI/Pictures/master/sketch-kbest.png\" alt=\"sketch-kbest\" width=\"600px;\"/>"
      ]
    },
    {
      "cell_type": "code",
      "execution_count": 17,
      "id": "abf2e6d1",
      "metadata": {
        "id": "abf2e6d1"
      },
      "outputs": [],
      "source": [
        "# lm instance for k-best\n",
        "lm_kbest = LogisticRegression()"
      ]
    },
    {
      "cell_type": "code",
      "execution_count": 18,
      "id": "cbac7756",
      "metadata": {
        "id": "cbac7756"
      },
      "outputs": [],
      "source": [
        "# Import the feature selector module\n",
        "from sklearn import feature_selection\n",
        "from sklearn.feature_selection import f_classif\n",
        "\n",
        "# Set up selector, choosing score function and number of features to retain\n",
        "selector_kbest = feature_selection.SelectKBest(score_func=f_classif, k=20)\n",
        "\n",
        "# Transform (i.e.: run selection on) the training data\n",
        "X_train_kbest = selector_kbest.fit_transform(X_train, y_train)"
      ]
    },
    {
      "cell_type": "code",
      "execution_count": 19,
      "id": "89cadc1d",
      "metadata": {
        "colab": {
          "base_uri": "https://localhost:8080/"
        },
        "id": "89cadc1d",
        "outputId": "c4453fae-46f6-44ad-de5c-c85411fb6f8d"
      },
      "outputs": [
        {
          "output_type": "execute_result",
          "data": {
            "text/plain": [
              "(455, 20)"
            ]
          },
          "metadata": {},
          "execution_count": 19
        }
      ],
      "source": [
        "X_train_kbest.shape"
      ]
    },
    {
      "cell_type": "code",
      "execution_count": 20,
      "id": "54d94eb7",
      "metadata": {
        "colab": {
          "base_uri": "https://localhost:8080/",
          "height": 74
        },
        "id": "54d94eb7",
        "outputId": "6425afe2-2042-4c9e-ba64-5588d2b05b7d"
      },
      "outputs": [
        {
          "output_type": "execute_result",
          "data": {
            "text/plain": [
              "LogisticRegression()"
            ],
            "text/html": [
              "<style>#sk-container-id-3 {color: black;background-color: white;}#sk-container-id-3 pre{padding: 0;}#sk-container-id-3 div.sk-toggleable {background-color: white;}#sk-container-id-3 label.sk-toggleable__label {cursor: pointer;display: block;width: 100%;margin-bottom: 0;padding: 0.3em;box-sizing: border-box;text-align: center;}#sk-container-id-3 label.sk-toggleable__label-arrow:before {content: \"▸\";float: left;margin-right: 0.25em;color: #696969;}#sk-container-id-3 label.sk-toggleable__label-arrow:hover:before {color: black;}#sk-container-id-3 div.sk-estimator:hover label.sk-toggleable__label-arrow:before {color: black;}#sk-container-id-3 div.sk-toggleable__content {max-height: 0;max-width: 0;overflow: hidden;text-align: left;background-color: #f0f8ff;}#sk-container-id-3 div.sk-toggleable__content pre {margin: 0.2em;color: black;border-radius: 0.25em;background-color: #f0f8ff;}#sk-container-id-3 input.sk-toggleable__control:checked~div.sk-toggleable__content {max-height: 200px;max-width: 100%;overflow: auto;}#sk-container-id-3 input.sk-toggleable__control:checked~label.sk-toggleable__label-arrow:before {content: \"▾\";}#sk-container-id-3 div.sk-estimator input.sk-toggleable__control:checked~label.sk-toggleable__label {background-color: #d4ebff;}#sk-container-id-3 div.sk-label input.sk-toggleable__control:checked~label.sk-toggleable__label {background-color: #d4ebff;}#sk-container-id-3 input.sk-hidden--visually {border: 0;clip: rect(1px 1px 1px 1px);clip: rect(1px, 1px, 1px, 1px);height: 1px;margin: -1px;overflow: hidden;padding: 0;position: absolute;width: 1px;}#sk-container-id-3 div.sk-estimator {font-family: monospace;background-color: #f0f8ff;border: 1px dotted black;border-radius: 0.25em;box-sizing: border-box;margin-bottom: 0.5em;}#sk-container-id-3 div.sk-estimator:hover {background-color: #d4ebff;}#sk-container-id-3 div.sk-parallel-item::after {content: \"\";width: 100%;border-bottom: 1px solid gray;flex-grow: 1;}#sk-container-id-3 div.sk-label:hover label.sk-toggleable__label {background-color: #d4ebff;}#sk-container-id-3 div.sk-serial::before {content: \"\";position: absolute;border-left: 1px solid gray;box-sizing: border-box;top: 0;bottom: 0;left: 50%;z-index: 0;}#sk-container-id-3 div.sk-serial {display: flex;flex-direction: column;align-items: center;background-color: white;padding-right: 0.2em;padding-left: 0.2em;position: relative;}#sk-container-id-3 div.sk-item {position: relative;z-index: 1;}#sk-container-id-3 div.sk-parallel {display: flex;align-items: stretch;justify-content: center;background-color: white;position: relative;}#sk-container-id-3 div.sk-item::before, #sk-container-id-3 div.sk-parallel-item::before {content: \"\";position: absolute;border-left: 1px solid gray;box-sizing: border-box;top: 0;bottom: 0;left: 50%;z-index: -1;}#sk-container-id-3 div.sk-parallel-item {display: flex;flex-direction: column;z-index: 1;position: relative;background-color: white;}#sk-container-id-3 div.sk-parallel-item:first-child::after {align-self: flex-end;width: 50%;}#sk-container-id-3 div.sk-parallel-item:last-child::after {align-self: flex-start;width: 50%;}#sk-container-id-3 div.sk-parallel-item:only-child::after {width: 0;}#sk-container-id-3 div.sk-dashed-wrapped {border: 1px dashed gray;margin: 0 0.4em 0.5em 0.4em;box-sizing: border-box;padding-bottom: 0.4em;background-color: white;}#sk-container-id-3 div.sk-label label {font-family: monospace;font-weight: bold;display: inline-block;line-height: 1.2em;}#sk-container-id-3 div.sk-label-container {text-align: center;}#sk-container-id-3 div.sk-container {/* jupyter's `normalize.less` sets `[hidden] { display: none; }` but bootstrap.min.css set `[hidden] { display: none !important; }` so we also need the `!important` here to be able to override the default hidden behavior on the sphinx rendered scikit-learn.org. See: https://github.com/scikit-learn/scikit-learn/issues/21755 */display: inline-block !important;position: relative;}#sk-container-id-3 div.sk-text-repr-fallback {display: none;}</style><div id=\"sk-container-id-3\" class=\"sk-top-container\"><div class=\"sk-text-repr-fallback\"><pre>LogisticRegression()</pre><b>In a Jupyter environment, please rerun this cell to show the HTML representation or trust the notebook. <br />On GitHub, the HTML representation is unable to render, please try loading this page with nbviewer.org.</b></div><div class=\"sk-container\" hidden><div class=\"sk-item\"><div class=\"sk-estimator sk-toggleable\"><input class=\"sk-toggleable__control sk-hidden--visually\" id=\"sk-estimator-id-3\" type=\"checkbox\" checked><label for=\"sk-estimator-id-3\" class=\"sk-toggleable__label sk-toggleable__label-arrow\">LogisticRegression</label><div class=\"sk-toggleable__content\"><pre>LogisticRegression()</pre></div></div></div></div></div>"
            ]
          },
          "metadata": {},
          "execution_count": 20
        }
      ],
      "source": [
        "# Fit model to the transformed data\n",
        "lm_kbest.fit(X_train_kbest, y_train)"
      ]
    },
    {
      "cell_type": "code",
      "execution_count": 21,
      "id": "5a448bee",
      "metadata": {
        "id": "5a448bee"
      },
      "outputs": [],
      "source": [
        "# Before generating predictions, we'll need to transform the test data the same way we did the train data\n",
        "X_test_kbest = selector_kbest.transform(X_test)\n",
        "\n",
        "# Generate predictions from var thresh model\n",
        "pred_lm_kbest = lm_kbest.predict(X_test_kbest)"
      ]
    },
    {
      "cell_type": "markdown",
      "id": "84dbb1c1",
      "metadata": {
        "id": "84dbb1c1"
      },
      "source": [
        "#### 4. Selection using sequential forward selection\n",
        "\n",
        "In this process, we iteratively fit the logistic regression classifier to our dataset, where our dataset starts with one feature and adds one feature per iteration. For each iteration, k-fold cross-validation is used to compute the performance of the classifier. Thereafter, we can determine which number of features resulted in the optimal performance.\n",
        "\n",
        "| 🚩 **Note** 🚩 |\n",
        "| : ----------------------- :|\n",
        "| We'll be using the `SequentialFeatureSelector` from a library known as `mlxtend`. **Be sure to: \"`pip install mlxtend`\" before you run the code below**. We'll also be using F1 score to compute the performance of each fitted model. |\n",
        "\n"
      ]
    },
    {
      "cell_type": "markdown",
      "id": "28f2a94d",
      "metadata": {
        "id": "28f2a94d"
      },
      "source": [
        "<img src=\"https://raw.githubusercontent.com/Explore-AI/Pictures/master/sketch-sfs.png\" alt=\"sketch-sfs\" width=\"700px;\">"
      ]
    },
    {
      "cell_type": "code",
      "execution_count": 22,
      "id": "40d0d0b6",
      "metadata": {
        "id": "40d0d0b6"
      },
      "outputs": [],
      "source": [
        "# We begin by declaring the classifier we wish to use\n",
        "lm_sfs = LogisticRegression()"
      ]
    },
    {
      "cell_type": "code",
      "execution_count": 23,
      "id": "b16c08da",
      "metadata": {
        "id": "b16c08da"
      },
      "outputs": [],
      "source": [
        "# Import the selector module and the accuracy_score module to computer performance\n",
        "from sklearn.metrics import f1_score\n",
        "from mlxtend.feature_selection import SequentialFeatureSelector as sfs"
      ]
    },
    {
      "cell_type": "markdown",
      "id": "5d1bfb5c",
      "metadata": {
        "id": "5d1bfb5c"
      },
      "source": [
        "Take note of the arguments we pass to the SequentialFeatureSelector instance:\n",
        "\n",
        "- `lm_sfs` is the classifier we want it to use to fit to the data.\n",
        "- `k-features` is the maximum number of features we want to end up with. We set it higher rather than lower – in case the optimal number of features is higher than we may have thought.\n",
        "- `forward=True` sets the selector to use forward, as opposed to backward, selection.\n",
        "- `scoring='f1'` ensures performance is measured using an appropriate metric: here, F1 score.\n",
        "- `cv=10` means validation will be performed using k-fold cross-validation, with k=10."
      ]
    },
    {
      "cell_type": "code",
      "execution_count": 24,
      "id": "7c084cd8",
      "metadata": {
        "id": "7c084cd8"
      },
      "outputs": [],
      "source": [
        "# We then build our forward feature selector\n",
        "sfs = sfs(lm_sfs, k_features=25, forward=True, scoring='f1', cv=10)"
      ]
    },
    {
      "cell_type": "markdown",
      "id": "bb6cc05b",
      "metadata": {
        "id": "bb6cc05b"
      },
      "source": [
        "The code cell below takes about a minute to execute."
      ]
    },
    {
      "cell_type": "code",
      "execution_count": 25,
      "id": "c6684ad2",
      "metadata": {
        "id": "c6684ad2"
      },
      "outputs": [],
      "source": [
        "sfs = sfs.fit(X_train, y_train)"
      ]
    },
    {
      "cell_type": "code",
      "execution_count": 26,
      "id": "07e81dd0",
      "metadata": {
        "colab": {
          "base_uri": "https://localhost:8080/",
          "height": 472
        },
        "id": "07e81dd0",
        "outputId": "337540c4-f52e-4747-ee7c-be1048f43039"
      },
      "outputs": [
        {
          "output_type": "display_data",
          "data": {
            "text/plain": [
              "<Figure size 640x480 with 1 Axes>"
            ],
            "image/png": "[encoded data removed]"
          },
          "metadata": {}
        }
      ],
      "source": [
        "# Plot the results\n",
        "from mlxtend.plotting import plot_sequential_feature_selection as plot_sfs\n",
        "\n",
        "fig1 = plot_sfs(sfs.get_metric_dict(), kind='std_dev')\n",
        "\n",
        "plt.ylim([0.9, 1])\n",
        "plt.title('Sequential Forward Selection (w. StdDev)')\n",
        "plt.grid()\n",
        "plt.show()"
      ]
    },
    {
      "cell_type": "markdown",
      "id": "930dcf11",
      "metadata": {
        "id": "930dcf11"
      },
      "source": [
        "Plotting the results we can see that performance begins to drop off after the 21st feature is added. Let's lock in those 21 features and use them to train our classifier. To be clear, these are not necessarily the first 21 features, but the 21 features which, when combined, produce optimal performance."
      ]
    },
    {
      "cell_type": "code",
      "execution_count": 27,
      "id": "118571fc",
      "metadata": {
        "id": "118571fc"
      },
      "outputs": [],
      "source": [
        "# Extract the feature names for the optimal number using the dictionary provided by the subsets_ method\n",
        "columns = list(sfs.subsets_[21]['feature_idx'])"
      ]
    },
    {
      "cell_type": "markdown",
      "id": "f0b3ea51",
      "metadata": {
        "id": "f0b3ea51"
      },
      "source": [
        "Having determined which number of features was best, we'll select those specific features and train the model using only them. Remember, we need to select the features for both train _and_ test sets."
      ]
    },
    {
      "cell_type": "code",
      "execution_count": 28,
      "id": "3c152b28",
      "metadata": {
        "id": "3c152b28"
      },
      "outputs": [],
      "source": [
        "X_train_sfs = X_train[:, columns]\n",
        "X_test_sfs = X_test[:, columns]"
      ]
    },
    {
      "cell_type": "code",
      "execution_count": 29,
      "id": "b5f61e0e",
      "metadata": {
        "colab": {
          "base_uri": "https://localhost:8080/"
        },
        "id": "b5f61e0e",
        "outputId": "8401620b-4aef-4555-9761-7e77ccd61575"
      },
      "outputs": [
        {
          "output_type": "execute_result",
          "data": {
            "text/plain": [
              "(455, 21)"
            ]
          },
          "metadata": {},
          "execution_count": 29
        }
      ],
      "source": [
        "X_train_sfs.shape"
      ]
    },
    {
      "cell_type": "markdown",
      "id": "b9bcba0c",
      "metadata": {
        "id": "b9bcba0c"
      },
      "source": [
        "Now we can train the model on this reduced training set."
      ]
    },
    {
      "cell_type": "code",
      "execution_count": 30,
      "id": "24c1b0ec",
      "metadata": {
        "colab": {
          "base_uri": "https://localhost:8080/",
          "height": 74
        },
        "id": "24c1b0ec",
        "outputId": "188f384a-38d7-47c1-c36c-a671b19f7996"
      },
      "outputs": [
        {
          "output_type": "execute_result",
          "data": {
            "text/plain": [
              "LogisticRegression()"
            ],
            "text/html": [
              "<style>#sk-container-id-4 {color: black;background-color: white;}#sk-container-id-4 pre{padding: 0;}#sk-container-id-4 div.sk-toggleable {background-color: white;}#sk-container-id-4 label.sk-toggleable__label {cursor: pointer;display: block;width: 100%;margin-bottom: 0;padding: 0.3em;box-sizing: border-box;text-align: center;}#sk-container-id-4 label.sk-toggleable__label-arrow:before {content: \"▸\";float: left;margin-right: 0.25em;color: #696969;}#sk-container-id-4 label.sk-toggleable__label-arrow:hover:before {color: black;}#sk-container-id-4 div.sk-estimator:hover label.sk-toggleable__label-arrow:before {color: black;}#sk-container-id-4 div.sk-toggleable__content {max-height: 0;max-width: 0;overflow: hidden;text-align: left;background-color: #f0f8ff;}#sk-container-id-4 div.sk-toggleable__content pre {margin: 0.2em;color: black;border-radius: 0.25em;background-color: #f0f8ff;}#sk-container-id-4 input.sk-toggleable__control:checked~div.sk-toggleable__content {max-height: 200px;max-width: 100%;overflow: auto;}#sk-container-id-4 input.sk-toggleable__control:checked~label.sk-toggleable__label-arrow:before {content: \"▾\";}#sk-container-id-4 div.sk-estimator input.sk-toggleable__control:checked~label.sk-toggleable__label {background-color: #d4ebff;}#sk-container-id-4 div.sk-label input.sk-toggleable__control:checked~label.sk-toggleable__label {background-color: #d4ebff;}#sk-container-id-4 input.sk-hidden--visually {border: 0;clip: rect(1px 1px 1px 1px);clip: rect(1px, 1px, 1px, 1px);height: 1px;margin: -1px;overflow: hidden;padding: 0;position: absolute;width: 1px;}#sk-container-id-4 div.sk-estimator {font-family: monospace;background-color: #f0f8ff;border: 1px dotted black;border-radius: 0.25em;box-sizing: border-box;margin-bottom: 0.5em;}#sk-container-id-4 div.sk-estimator:hover {background-color: #d4ebff;}#sk-container-id-4 div.sk-parallel-item::after {content: \"\";width: 100%;border-bottom: 1px solid gray;flex-grow: 1;}#sk-container-id-4 div.sk-label:hover label.sk-toggleable__label {background-color: #d4ebff;}#sk-container-id-4 div.sk-serial::before {content: \"\";position: absolute;border-left: 1px solid gray;box-sizing: border-box;top: 0;bottom: 0;left: 50%;z-index: 0;}#sk-container-id-4 div.sk-serial {display: flex;flex-direction: column;align-items: center;background-color: white;padding-right: 0.2em;padding-left: 0.2em;position: relative;}#sk-container-id-4 div.sk-item {position: relative;z-index: 1;}#sk-container-id-4 div.sk-parallel {display: flex;align-items: stretch;justify-content: center;background-color: white;position: relative;}#sk-container-id-4 div.sk-item::before, #sk-container-id-4 div.sk-parallel-item::before {content: \"\";position: absolute;border-left: 1px solid gray;box-sizing: border-box;top: 0;bottom: 0;left: 50%;z-index: -1;}#sk-container-id-4 div.sk-parallel-item {display: flex;flex-direction: column;z-index: 1;position: relative;background-color: white;}#sk-container-id-4 div.sk-parallel-item:first-child::after {align-self: flex-end;width: 50%;}#sk-container-id-4 div.sk-parallel-item:last-child::after {align-self: flex-start;width: 50%;}#sk-container-id-4 div.sk-parallel-item:only-child::after {width: 0;}#sk-container-id-4 div.sk-dashed-wrapped {border: 1px dashed gray;margin: 0 0.4em 0.5em 0.4em;box-sizing: border-box;padding-bottom: 0.4em;background-color: white;}#sk-container-id-4 div.sk-label label {font-family: monospace;font-weight: bold;display: inline-block;line-height: 1.2em;}#sk-container-id-4 div.sk-label-container {text-align: center;}#sk-container-id-4 div.sk-container {/* jupyter's `normalize.less` sets `[hidden] { display: none; }` but bootstrap.min.css set `[hidden] { display: none !important; }` so we also need the `!important` here to be able to override the default hidden behavior on the sphinx rendered scikit-learn.org. See: https://github.com/scikit-learn/scikit-learn/issues/21755 */display: inline-block !important;position: relative;}#sk-container-id-4 div.sk-text-repr-fallback {display: none;}</style><div id=\"sk-container-id-4\" class=\"sk-top-container\"><div class=\"sk-text-repr-fallback\"><pre>LogisticRegression()</pre><b>In a Jupyter environment, please rerun this cell to show the HTML representation or trust the notebook. <br />On GitHub, the HTML representation is unable to render, please try loading this page with nbviewer.org.</b></div><div class=\"sk-container\" hidden><div class=\"sk-item\"><div class=\"sk-estimator sk-toggleable\"><input class=\"sk-toggleable__control sk-hidden--visually\" id=\"sk-estimator-id-4\" type=\"checkbox\" checked><label for=\"sk-estimator-id-4\" class=\"sk-toggleable__label sk-toggleable__label-arrow\">LogisticRegression</label><div class=\"sk-toggleable__content\"><pre>LogisticRegression()</pre></div></div></div></div></div>"
            ]
          },
          "metadata": {},
          "execution_count": 30
        }
      ],
      "source": [
        "lm_sfs.fit(X_train_sfs, y_train)"
      ]
    },
    {
      "cell_type": "markdown",
      "id": "57696abc",
      "metadata": {
        "id": "57696abc"
      },
      "source": [
        "Finally, we'll generate some predictions."
      ]
    },
    {
      "cell_type": "code",
      "execution_count": 31,
      "id": "995722d8",
      "metadata": {
        "id": "995722d8"
      },
      "outputs": [],
      "source": [
        "pred_lm_sfs = lm_sfs.predict(X_test_sfs)"
      ]
    },
    {
      "cell_type": "markdown",
      "id": "54267cea",
      "metadata": {
        "id": "54267cea"
      },
      "source": [
        "### Assessment"
      ]
    },
    {
      "cell_type": "markdown",
      "id": "4ef04ed7",
      "metadata": {
        "id": "4ef04ed7"
      },
      "source": [
        "Using `classification report`, we'll look at F1 score, precision, and recall for each of our models."
      ]
    },
    {
      "cell_type": "code",
      "execution_count": 32,
      "id": "7e98f850",
      "metadata": {
        "colab": {
          "base_uri": "https://localhost:8080/"
        },
        "id": "7e98f850",
        "outputId": "e4d84ae2-c16d-4a44-8e34-530a11882d55"
      },
      "outputs": [
        {
          "output_type": "stream",
          "name": "stdout",
          "text": [
            "Full Model\n",
            "              precision    recall  f1-score   support\n",
            "\n",
            "   Malignant       1.00      1.00      1.00        39\n",
            "      Benign       1.00      1.00      1.00        75\n",
            "\n",
            "    accuracy                           1.00       114\n",
            "   macro avg       1.00      1.00      1.00       114\n",
            "weighted avg       1.00      1.00      1.00       114\n",
            "\n",
            "Var Thresh Model\n",
            "              precision    recall  f1-score   support\n",
            "\n",
            "   Malignant       0.97      0.97      0.97        39\n",
            "      Benign       0.99      0.99      0.99        75\n",
            "\n",
            "    accuracy                           0.98       114\n",
            "   macro avg       0.98      0.98      0.98       114\n",
            "weighted avg       0.98      0.98      0.98       114\n",
            "\n",
            "KBest Model\n",
            "              precision    recall  f1-score   support\n",
            "\n",
            "   Malignant       1.00      1.00      1.00        39\n",
            "      Benign       1.00      1.00      1.00        75\n",
            "\n",
            "    accuracy                           1.00       114\n",
            "   macro avg       1.00      1.00      1.00       114\n",
            "weighted avg       1.00      1.00      1.00       114\n",
            "\n",
            "SFS Model\n",
            "              precision    recall  f1-score   support\n",
            "\n",
            "   Malignant       1.00      0.97      0.99        39\n",
            "      Benign       0.99      1.00      0.99        75\n",
            "\n",
            "    accuracy                           0.99       114\n",
            "   macro avg       0.99      0.99      0.99       114\n",
            "weighted avg       0.99      0.99      0.99       114\n",
            "\n"
          ]
        }
      ],
      "source": [
        "print('Full Model')\n",
        "print(classification_report(y_test, pred_lm_full, target_names=['Malignant', 'Benign']))\n",
        "\n",
        "print('Var Thresh Model')\n",
        "print(classification_report(y_test, pred_lm_vt, target_names=['Malignant', 'Benign']))\n",
        "\n",
        "print('KBest Model')\n",
        "print(classification_report(y_test, pred_lm_kbest, target_names=['Malignant', 'Benign']))\n",
        "\n",
        "print('SFS Model')\n",
        "print(classification_report(y_test, pred_lm_sfs, target_names=['Malignant', 'Benign']))"
      ]
    },
    {
      "cell_type": "code",
      "execution_count": 33,
      "id": "d4d2833e",
      "metadata": {
        "colab": {
          "base_uri": "https://localhost:8080/"
        },
        "id": "d4d2833e",
        "outputId": "b5a55d4f-d063-424e-a501-b1b5cab87bb3"
      },
      "outputs": [
        {
          "output_type": "stream",
          "name": "stdout",
          "text": [
            "SFS Model\n",
            "              precision    recall  f1-score   support\n",
            "\n",
            "   Malignant       1.00      0.97      0.99        39\n",
            "      Benign       0.99      1.00      0.99        75\n",
            "\n",
            "    accuracy                           0.99       114\n",
            "   macro avg       0.99      0.99      0.99       114\n",
            "weighted avg       0.99      0.99      0.99       114\n",
            "\n"
          ]
        }
      ],
      "source": [
        "print('SFS Model')\n",
        "print(classification_report(y_test, pred_lm_sfs, target_names=['Malignant', 'Benign']))"
      ]
    },
    {
      "cell_type": "markdown",
      "id": "465b934d",
      "metadata": {
        "id": "465b934d"
      },
      "source": [
        "Interestingly, the full model achieves perfect accuracy in both classes, a 0.07% improvement over the full model in the previous train. The only difference here is that we scaled our data first – which clearly made a difference for the convergence of the logistic regression classifier.\n",
        "\n",
        "The other three models all perform very well, with the `SelectKBest` model also achieving perfect accuracy in both classes.\n",
        "\n",
        "The variance thresholding model had the poorest performance of the four. Perhaps using variance alone was not a sufficient indicator of the importance of the features in question.\n",
        "\n",
        "There is yet another method we can use to try and improve the model – let's take a look."
      ]
    },
    {
      "cell_type": "markdown",
      "id": "be1dcdec",
      "metadata": {
        "id": "be1dcdec"
      },
      "source": [
        "## 3. Tuning the model hyperparameter\n",
        "\n",
        "Most models have settings or configuration values, known as hyperparameters, that can be changed to modify the fit of the model on the training data. The logistic regression model contains a hyperparameter _C_, which is used to control the penalty we apply to features that are less important (i.e. more important features will have greater weight).\n",
        "\n",
        "The smaller the value of _C_, the greater the penalty to less important features. _C_ is a value greater than 0. You will recall from regression the regularisation methods Ridge and LASSO, which sought to minimise the L2- or L1-norm, respectively, by shrinking the coefficients of certain features. The penalty term had a coefficient of its own, which we called $\\alpha$, which controlled the severity of shrinkage that occurred. The _C_ value we will change here is precisely the _inverse_ value of $\\alpha$. In other words, the smaller the value of C, the greater the shrinkage that occurs."
      ]
    },
    {
      "cell_type": "markdown",
      "id": "2006cba0",
      "metadata": {
        "id": "2006cba0"
      },
      "source": [
        "### Training\n",
        "\n",
        "We create three instances of the `LogisticRegression()` object, specifying a different value of the hyperparameter _C_ for each. When we set C to be small, we'll also specify the penalty type to be `l1` – this will allow some of the coefficients to be shrunk all the way to zero."
      ]
    },
    {
      "cell_type": "code",
      "execution_count": 34,
      "id": "934e7820",
      "metadata": {
        "id": "934e7820"
      },
      "outputs": [],
      "source": [
        "# Small C\n",
        "model_1 = LogisticRegression(C=0.05, penalty='l1', solver='liblinear', verbose=1)\n",
        "\n",
        "# Default C\n",
        "model_2 = LogisticRegression(C=1)\n",
        "\n",
        "# Large C\n",
        "model_3 = LogisticRegression(C=10)"
      ]
    },
    {
      "cell_type": "code",
      "execution_count": 35,
      "id": "b20de9ab",
      "metadata": {
        "colab": {
          "base_uri": "https://localhost:8080/",
          "height": 91
        },
        "id": "b20de9ab",
        "outputId": "73a1617c-e968-4787-9a03-835cab742a5f"
      },
      "outputs": [
        {
          "output_type": "stream",
          "name": "stdout",
          "text": [
            "[LibLinear]"
          ]
        },
        {
          "output_type": "execute_result",
          "data": {
            "text/plain": [
              "LogisticRegression(C=0.05, penalty='l1', solver='liblinear', verbose=1)"
            ],
            "text/html": [
              "<style>#sk-container-id-5 {color: black;background-color: white;}#sk-container-id-5 pre{padding: 0;}#sk-container-id-5 div.sk-toggleable {background-color: white;}#sk-container-id-5 label.sk-toggleable__label {cursor: pointer;display: block;width: 100%;margin-bottom: 0;padding: 0.3em;box-sizing: border-box;text-align: center;}#sk-container-id-5 label.sk-toggleable__label-arrow:before {content: \"▸\";float: left;margin-right: 0.25em;color: #696969;}#sk-container-id-5 label.sk-toggleable__label-arrow:hover:before {color: black;}#sk-container-id-5 div.sk-estimator:hover label.sk-toggleable__label-arrow:before {color: black;}#sk-container-id-5 div.sk-toggleable__content {max-height: 0;max-width: 0;overflow: hidden;text-align: left;background-color: #f0f8ff;}#sk-container-id-5 div.sk-toggleable__content pre {margin: 0.2em;color: black;border-radius: 0.25em;background-color: #f0f8ff;}#sk-container-id-5 input.sk-toggleable__control:checked~div.sk-toggleable__content {max-height: 200px;max-width: 100%;overflow: auto;}#sk-container-id-5 input.sk-toggleable__control:checked~label.sk-toggleable__label-arrow:before {content: \"▾\";}#sk-container-id-5 div.sk-estimator input.sk-toggleable__control:checked~label.sk-toggleable__label {background-color: #d4ebff;}#sk-container-id-5 div.sk-label input.sk-toggleable__control:checked~label.sk-toggleable__label {background-color: #d4ebff;}#sk-container-id-5 input.sk-hidden--visually {border: 0;clip: rect(1px 1px 1px 1px);clip: rect(1px, 1px, 1px, 1px);height: 1px;margin: -1px;overflow: hidden;padding: 0;position: absolute;width: 1px;}#sk-container-id-5 div.sk-estimator {font-family: monospace;background-color: #f0f8ff;border: 1px dotted black;border-radius: 0.25em;box-sizing: border-box;margin-bottom: 0.5em;}#sk-container-id-5 div.sk-estimator:hover {background-color: #d4ebff;}#sk-container-id-5 div.sk-parallel-item::after {content: \"\";width: 100%;border-bottom: 1px solid gray;flex-grow: 1;}#sk-container-id-5 div.sk-label:hover label.sk-toggleable__label {background-color: #d4ebff;}#sk-container-id-5 div.sk-serial::before {content: \"\";position: absolute;border-left: 1px solid gray;box-sizing: border-box;top: 0;bottom: 0;left: 50%;z-index: 0;}#sk-container-id-5 div.sk-serial {display: flex;flex-direction: column;align-items: center;background-color: white;padding-right: 0.2em;padding-left: 0.2em;position: relative;}#sk-container-id-5 div.sk-item {position: relative;z-index: 1;}#sk-container-id-5 div.sk-parallel {display: flex;align-items: stretch;justify-content: center;background-color: white;position: relative;}#sk-container-id-5 div.sk-item::before, #sk-container-id-5 div.sk-parallel-item::before {content: \"\";position: absolute;border-left: 1px solid gray;box-sizing: border-box;top: 0;bottom: 0;left: 50%;z-index: -1;}#sk-container-id-5 div.sk-parallel-item {display: flex;flex-direction: column;z-index: 1;position: relative;background-color: white;}#sk-container-id-5 div.sk-parallel-item:first-child::after {align-self: flex-end;width: 50%;}#sk-container-id-5 div.sk-parallel-item:last-child::after {align-self: flex-start;width: 50%;}#sk-container-id-5 div.sk-parallel-item:only-child::after {width: 0;}#sk-container-id-5 div.sk-dashed-wrapped {border: 1px dashed gray;margin: 0 0.4em 0.5em 0.4em;box-sizing: border-box;padding-bottom: 0.4em;background-color: white;}#sk-container-id-5 div.sk-label label {font-family: monospace;font-weight: bold;display: inline-block;line-height: 1.2em;}#sk-container-id-5 div.sk-label-container {text-align: center;}#sk-container-id-5 div.sk-container {/* jupyter's `normalize.less` sets `[hidden] { display: none; }` but bootstrap.min.css set `[hidden] { display: none !important; }` so we also need the `!important` here to be able to override the default hidden behavior on the sphinx rendered scikit-learn.org. See: https://github.com/scikit-learn/scikit-learn/issues/21755 */display: inline-block !important;position: relative;}#sk-container-id-5 div.sk-text-repr-fallback {display: none;}</style><div id=\"sk-container-id-5\" class=\"sk-top-container\"><div class=\"sk-text-repr-fallback\"><pre>LogisticRegression(C=0.05, penalty=&#x27;l1&#x27;, solver=&#x27;liblinear&#x27;, verbose=1)</pre><b>In a Jupyter environment, please rerun this cell to show the HTML representation or trust the notebook. <br />On GitHub, the HTML representation is unable to render, please try loading this page with nbviewer.org.</b></div><div class=\"sk-container\" hidden><div class=\"sk-item\"><div class=\"sk-estimator sk-toggleable\"><input class=\"sk-toggleable__control sk-hidden--visually\" id=\"sk-estimator-id-5\" type=\"checkbox\" checked><label for=\"sk-estimator-id-5\" class=\"sk-toggleable__label sk-toggleable__label-arrow\">LogisticRegression</label><div class=\"sk-toggleable__content\"><pre>LogisticRegression(C=0.05, penalty=&#x27;l1&#x27;, solver=&#x27;liblinear&#x27;, verbose=1)</pre></div></div></div></div></div>"
            ]
          },
          "metadata": {},
          "execution_count": 35
        }
      ],
      "source": [
        "model_1.fit(X_train, y_train)"
      ]
    },
    {
      "cell_type": "code",
      "execution_count": 36,
      "id": "22ac7fd9",
      "metadata": {
        "colab": {
          "base_uri": "https://localhost:8080/",
          "height": 74
        },
        "id": "22ac7fd9",
        "outputId": "14ca8883-e089-4ee3-9614-6d2413df4bd8"
      },
      "outputs": [
        {
          "output_type": "execute_result",
          "data": {
            "text/plain": [
              "LogisticRegression(C=1)"
            ],
            "text/html": [
              "<style>#sk-container-id-6 {color: black;background-color: white;}#sk-container-id-6 pre{padding: 0;}#sk-container-id-6 div.sk-toggleable {background-color: white;}#sk-container-id-6 label.sk-toggleable__label {cursor: pointer;display: block;width: 100%;margin-bottom: 0;padding: 0.3em;box-sizing: border-box;text-align: center;}#sk-container-id-6 label.sk-toggleable__label-arrow:before {content: \"▸\";float: left;margin-right: 0.25em;color: #696969;}#sk-container-id-6 label.sk-toggleable__label-arrow:hover:before {color: black;}#sk-container-id-6 div.sk-estimator:hover label.sk-toggleable__label-arrow:before {color: black;}#sk-container-id-6 div.sk-toggleable__content {max-height: 0;max-width: 0;overflow: hidden;text-align: left;background-color: #f0f8ff;}#sk-container-id-6 div.sk-toggleable__content pre {margin: 0.2em;color: black;border-radius: 0.25em;background-color: #f0f8ff;}#sk-container-id-6 input.sk-toggleable__control:checked~div.sk-toggleable__content {max-height: 200px;max-width: 100%;overflow: auto;}#sk-container-id-6 input.sk-toggleable__control:checked~label.sk-toggleable__label-arrow:before {content: \"▾\";}#sk-container-id-6 div.sk-estimator input.sk-toggleable__control:checked~label.sk-toggleable__label {background-color: #d4ebff;}#sk-container-id-6 div.sk-label input.sk-toggleable__control:checked~label.sk-toggleable__label {background-color: #d4ebff;}#sk-container-id-6 input.sk-hidden--visually {border: 0;clip: rect(1px 1px 1px 1px);clip: rect(1px, 1px, 1px, 1px);height: 1px;margin: -1px;overflow: hidden;padding: 0;position: absolute;width: 1px;}#sk-container-id-6 div.sk-estimator {font-family: monospace;background-color: #f0f8ff;border: 1px dotted black;border-radius: 0.25em;box-sizing: border-box;margin-bottom: 0.5em;}#sk-container-id-6 div.sk-estimator:hover {background-color: #d4ebff;}#sk-container-id-6 div.sk-parallel-item::after {content: \"\";width: 100%;border-bottom: 1px solid gray;flex-grow: 1;}#sk-container-id-6 div.sk-label:hover label.sk-toggleable__label {background-color: #d4ebff;}#sk-container-id-6 div.sk-serial::before {content: \"\";position: absolute;border-left: 1px solid gray;box-sizing: border-box;top: 0;bottom: 0;left: 50%;z-index: 0;}#sk-container-id-6 div.sk-serial {display: flex;flex-direction: column;align-items: center;background-color: white;padding-right: 0.2em;padding-left: 0.2em;position: relative;}#sk-container-id-6 div.sk-item {position: relative;z-index: 1;}#sk-container-id-6 div.sk-parallel {display: flex;align-items: stretch;justify-content: center;background-color: white;position: relative;}#sk-container-id-6 div.sk-item::before, #sk-container-id-6 div.sk-parallel-item::before {content: \"\";position: absolute;border-left: 1px solid gray;box-sizing: border-box;top: 0;bottom: 0;left: 50%;z-index: -1;}#sk-container-id-6 div.sk-parallel-item {display: flex;flex-direction: column;z-index: 1;position: relative;background-color: white;}#sk-container-id-6 div.sk-parallel-item:first-child::after {align-self: flex-end;width: 50%;}#sk-container-id-6 div.sk-parallel-item:last-child::after {align-self: flex-start;width: 50%;}#sk-container-id-6 div.sk-parallel-item:only-child::after {width: 0;}#sk-container-id-6 div.sk-dashed-wrapped {border: 1px dashed gray;margin: 0 0.4em 0.5em 0.4em;box-sizing: border-box;padding-bottom: 0.4em;background-color: white;}#sk-container-id-6 div.sk-label label {font-family: monospace;font-weight: bold;display: inline-block;line-height: 1.2em;}#sk-container-id-6 div.sk-label-container {text-align: center;}#sk-container-id-6 div.sk-container {/* jupyter's `normalize.less` sets `[hidden] { display: none; }` but bootstrap.min.css set `[hidden] { display: none !important; }` so we also need the `!important` here to be able to override the default hidden behavior on the sphinx rendered scikit-learn.org. See: https://github.com/scikit-learn/scikit-learn/issues/21755 */display: inline-block !important;position: relative;}#sk-container-id-6 div.sk-text-repr-fallback {display: none;}</style><div id=\"sk-container-id-6\" class=\"sk-top-container\"><div class=\"sk-text-repr-fallback\"><pre>LogisticRegression(C=1)</pre><b>In a Jupyter environment, please rerun this cell to show the HTML representation or trust the notebook. <br />On GitHub, the HTML representation is unable to render, please try loading this page with nbviewer.org.</b></div><div class=\"sk-container\" hidden><div class=\"sk-item\"><div class=\"sk-estimator sk-toggleable\"><input class=\"sk-toggleable__control sk-hidden--visually\" id=\"sk-estimator-id-6\" type=\"checkbox\" checked><label for=\"sk-estimator-id-6\" class=\"sk-toggleable__label sk-toggleable__label-arrow\">LogisticRegression</label><div class=\"sk-toggleable__content\"><pre>LogisticRegression(C=1)</pre></div></div></div></div></div>"
            ]
          },
          "metadata": {},
          "execution_count": 36
        }
      ],
      "source": [
        "model_2.fit(X_train, y_train)"
      ]
    },
    {
      "cell_type": "code",
      "execution_count": 37,
      "id": "945eb866",
      "metadata": {
        "colab": {
          "base_uri": "https://localhost:8080/",
          "height": 74
        },
        "id": "945eb866",
        "outputId": "106a1609-2076-4e85-fbf4-c421f3785344"
      },
      "outputs": [
        {
          "output_type": "execute_result",
          "data": {
            "text/plain": [
              "LogisticRegression(C=10)"
            ],
            "text/html": [
              "<style>#sk-container-id-7 {color: black;background-color: white;}#sk-container-id-7 pre{padding: 0;}#sk-container-id-7 div.sk-toggleable {background-color: white;}#sk-container-id-7 label.sk-toggleable__label {cursor: pointer;display: block;width: 100%;margin-bottom: 0;padding: 0.3em;box-sizing: border-box;text-align: center;}#sk-container-id-7 label.sk-toggleable__label-arrow:before {content: \"▸\";float: left;margin-right: 0.25em;color: #696969;}#sk-container-id-7 label.sk-toggleable__label-arrow:hover:before {color: black;}#sk-container-id-7 div.sk-estimator:hover label.sk-toggleable__label-arrow:before {color: black;}#sk-container-id-7 div.sk-toggleable__content {max-height: 0;max-width: 0;overflow: hidden;text-align: left;background-color: #f0f8ff;}#sk-container-id-7 div.sk-toggleable__content pre {margin: 0.2em;color: black;border-radius: 0.25em;background-color: #f0f8ff;}#sk-container-id-7 input.sk-toggleable__control:checked~div.sk-toggleable__content {max-height: 200px;max-width: 100%;overflow: auto;}#sk-container-id-7 input.sk-toggleable__control:checked~label.sk-toggleable__label-arrow:before {content: \"▾\";}#sk-container-id-7 div.sk-estimator input.sk-toggleable__control:checked~label.sk-toggleable__label {background-color: #d4ebff;}#sk-container-id-7 div.sk-label input.sk-toggleable__control:checked~label.sk-toggleable__label {background-color: #d4ebff;}#sk-container-id-7 input.sk-hidden--visually {border: 0;clip: rect(1px 1px 1px 1px);clip: rect(1px, 1px, 1px, 1px);height: 1px;margin: -1px;overflow: hidden;padding: 0;position: absolute;width: 1px;}#sk-container-id-7 div.sk-estimator {font-family: monospace;background-color: #f0f8ff;border: 1px dotted black;border-radius: 0.25em;box-sizing: border-box;margin-bottom: 0.5em;}#sk-container-id-7 div.sk-estimator:hover {background-color: #d4ebff;}#sk-container-id-7 div.sk-parallel-item::after {content: \"\";width: 100%;border-bottom: 1px solid gray;flex-grow: 1;}#sk-container-id-7 div.sk-label:hover label.sk-toggleable__label {background-color: #d4ebff;}#sk-container-id-7 div.sk-serial::before {content: \"\";position: absolute;border-left: 1px solid gray;box-sizing: border-box;top: 0;bottom: 0;left: 50%;z-index: 0;}#sk-container-id-7 div.sk-serial {display: flex;flex-direction: column;align-items: center;background-color: white;padding-right: 0.2em;padding-left: 0.2em;position: relative;}#sk-container-id-7 div.sk-item {position: relative;z-index: 1;}#sk-container-id-7 div.sk-parallel {display: flex;align-items: stretch;justify-content: center;background-color: white;position: relative;}#sk-container-id-7 div.sk-item::before, #sk-container-id-7 div.sk-parallel-item::before {content: \"\";position: absolute;border-left: 1px solid gray;box-sizing: border-box;top: 0;bottom: 0;left: 50%;z-index: -1;}#sk-container-id-7 div.sk-parallel-item {display: flex;flex-direction: column;z-index: 1;position: relative;background-color: white;}#sk-container-id-7 div.sk-parallel-item:first-child::after {align-self: flex-end;width: 50%;}#sk-container-id-7 div.sk-parallel-item:last-child::after {align-self: flex-start;width: 50%;}#sk-container-id-7 div.sk-parallel-item:only-child::after {width: 0;}#sk-container-id-7 div.sk-dashed-wrapped {border: 1px dashed gray;margin: 0 0.4em 0.5em 0.4em;box-sizing: border-box;padding-bottom: 0.4em;background-color: white;}#sk-container-id-7 div.sk-label label {font-family: monospace;font-weight: bold;display: inline-block;line-height: 1.2em;}#sk-container-id-7 div.sk-label-container {text-align: center;}#sk-container-id-7 div.sk-container {/* jupyter's `normalize.less` sets `[hidden] { display: none; }` but bootstrap.min.css set `[hidden] { display: none !important; }` so we also need the `!important` here to be able to override the default hidden behavior on the sphinx rendered scikit-learn.org. See: https://github.com/scikit-learn/scikit-learn/issues/21755 */display: inline-block !important;position: relative;}#sk-container-id-7 div.sk-text-repr-fallback {display: none;}</style><div id=\"sk-container-id-7\" class=\"sk-top-container\"><div class=\"sk-text-repr-fallback\"><pre>LogisticRegression(C=10)</pre><b>In a Jupyter environment, please rerun this cell to show the HTML representation or trust the notebook. <br />On GitHub, the HTML representation is unable to render, please try loading this page with nbviewer.org.</b></div><div class=\"sk-container\" hidden><div class=\"sk-item\"><div class=\"sk-estimator sk-toggleable\"><input class=\"sk-toggleable__control sk-hidden--visually\" id=\"sk-estimator-id-7\" type=\"checkbox\" checked><label for=\"sk-estimator-id-7\" class=\"sk-toggleable__label sk-toggleable__label-arrow\">LogisticRegression</label><div class=\"sk-toggleable__content\"><pre>LogisticRegression(C=10)</pre></div></div></div></div></div>"
            ]
          },
          "metadata": {},
          "execution_count": 37
        }
      ],
      "source": [
        "model_3.fit(X_train, y_train)"
      ]
    },
    {
      "cell_type": "markdown",
      "id": "1f24f535",
      "metadata": {
        "id": "1f24f535"
      },
      "source": [
        "Taking a look at the magnitudes of the coefficients of each trained model, we can see that the smaller C is, the more features are shrunk. In the case where `penalty='l1'`, smaller C values literally mean fewer features are included. Notice how only one non-zero coefficient remains in that case."
      ]
    },
    {
      "cell_type": "code",
      "execution_count": 38,
      "id": "bf35cb16",
      "metadata": {
        "colab": {
          "base_uri": "https://localhost:8080/"
        },
        "id": "bf35cb16",
        "outputId": "af202f57-5ead-4173-e5cc-6b7b64bff2c8"
      },
      "outputs": [
        {
          "output_type": "execute_result",
          "data": {
            "text/plain": [
              "array([[ 0.       ,  0.       ,  0.       ,  0.       ,  0.       ,\n",
              "         0.       ,  0.       ,  0.       ,  0.       ,  0.       ,\n",
              "         0.       ,  0.       ,  0.       ,  0.       ,  0.       ,\n",
              "         0.       ,  0.       ,  0.       ,  0.       ,  0.       ,\n",
              "         0.       ,  0.       ,  0.       ,  0.       ,  0.       ,\n",
              "         0.       ,  0.       , -2.0718216,  0.       ,  0.       ]])"
            ]
          },
          "metadata": {},
          "execution_count": 38
        }
      ],
      "source": [
        "model_1.coef_"
      ]
    },
    {
      "cell_type": "code",
      "execution_count": 39,
      "id": "2499ed80",
      "metadata": {
        "colab": {
          "base_uri": "https://localhost:8080/"
        },
        "id": "2499ed80",
        "outputId": "87b24300-cc7e-4c3d-a61b-08406f371e32"
      },
      "outputs": [
        {
          "output_type": "execute_result",
          "data": {
            "text/plain": [
              "array([[-1.7611167 , -1.65615376, -1.72064645, -1.49501402, -0.4804673 ,\n",
              "        -0.2554986 , -1.39564379, -1.88675522, -0.37475386,  0.92999426,\n",
              "        -1.14761616, -0.06882066, -0.86899982, -0.75098234, -0.04906747,\n",
              "         0.67561638,  0.07421836, -0.35106216,  0.44862657,  0.57753662,\n",
              "        -2.18677336, -2.23153836, -2.01294075, -1.58627796, -1.3795238 ,\n",
              "        -0.73360431, -1.45439135, -2.50448563, -1.11702906, -0.29772029]])"
            ]
          },
          "metadata": {},
          "execution_count": 39
        }
      ],
      "source": [
        "model_2.coef_"
      ]
    },
    {
      "cell_type": "code",
      "execution_count": 40,
      "id": "ecb3b636",
      "metadata": {
        "colab": {
          "base_uri": "https://localhost:8080/"
        },
        "id": "ecb3b636",
        "outputId": "c7e02bae-45e4-4060-b76a-0e35c524a21f"
      },
      "outputs": [
        {
          "output_type": "execute_result",
          "data": {
            "text/plain": [
              "array([[-2.59663513e+00, -3.29433429e+00, -2.46075904e+00,\n",
              "        -2.40279743e+00, -1.01940227e+00,  1.44142514e+00,\n",
              "        -2.88469115e+00, -3.58340794e+00,  4.64841674e-03,\n",
              "         1.78982561e+00, -4.55484934e+00, -2.63077826e-01,\n",
              "        -3.13595220e+00, -2.51883484e+00, -5.66192344e-01,\n",
              "         3.42656545e+00,  2.25994264e-01, -9.24069184e-01,\n",
              "         2.37840179e+00,  2.06612100e+00, -4.52483080e+00,\n",
              "        -4.85065639e+00, -3.87141643e+00, -3.40223131e+00,\n",
              "        -3.05293127e+00, -3.09352008e-01, -3.24281894e+00,\n",
              "        -3.92283784e+00, -2.67229807e+00, -8.17324890e-01]])"
            ]
          },
          "metadata": {},
          "execution_count": 40
        }
      ],
      "source": [
        "model_3.coef_"
      ]
    },
    {
      "cell_type": "markdown",
      "id": "7d976bc4",
      "metadata": {
        "id": "7d976bc4"
      },
      "source": [
        "### Predicting"
      ]
    },
    {
      "cell_type": "markdown",
      "id": "5c081971",
      "metadata": {
        "id": "5c081971"
      },
      "source": [
        "The models have been trained. Let's make some predictions."
      ]
    },
    {
      "cell_type": "code",
      "execution_count": 41,
      "id": "d55d04ed",
      "metadata": {
        "id": "d55d04ed"
      },
      "outputs": [],
      "source": [
        "pred_1 = model_1.predict(X_test)\n",
        "pred_2 = model_2.predict(X_test)\n",
        "pred_3 = model_3.predict(X_test)"
      ]
    },
    {
      "cell_type": "markdown",
      "id": "9d4c71d9",
      "metadata": {
        "id": "9d4c71d9"
      },
      "source": [
        "### Testing"
      ]
    },
    {
      "cell_type": "markdown",
      "id": "365b54ed",
      "metadata": {
        "id": "365b54ed"
      },
      "source": [
        "We will once again use the classification report to compare the model results."
      ]
    },
    {
      "cell_type": "code",
      "execution_count": 42,
      "id": "d3caa9bc",
      "metadata": {
        "colab": {
          "base_uri": "https://localhost:8080/"
        },
        "id": "d3caa9bc",
        "outputId": "bd9267db-e718-4feb-fdbc-39004fc1e89a"
      },
      "outputs": [
        {
          "output_type": "stream",
          "name": "stdout",
          "text": [
            "C = 0.05\n",
            "              precision    recall  f1-score   support\n",
            "\n",
            "   Malignant       0.96      0.62      0.75        39\n",
            "      Benign       0.83      0.99      0.90        75\n",
            "\n",
            "    accuracy                           0.86       114\n",
            "   macro avg       0.90      0.80      0.83       114\n",
            "weighted avg       0.88      0.86      0.85       114\n",
            "\n",
            "C = 1\n",
            "              precision    recall  f1-score   support\n",
            "\n",
            "   Malignant       1.00      1.00      1.00        39\n",
            "      Benign       1.00      1.00      1.00        75\n",
            "\n",
            "    accuracy                           1.00       114\n",
            "   macro avg       1.00      1.00      1.00       114\n",
            "weighted avg       1.00      1.00      1.00       114\n",
            "\n",
            "C = 10\n",
            "              precision    recall  f1-score   support\n",
            "\n",
            "   Malignant       0.97      0.97      0.97        39\n",
            "      Benign       0.99      0.99      0.99        75\n",
            "\n",
            "    accuracy                           0.98       114\n",
            "   macro avg       0.98      0.98      0.98       114\n",
            "weighted avg       0.98      0.98      0.98       114\n",
            "\n"
          ]
        }
      ],
      "source": [
        "print('C = 0.05')\n",
        "print(classification_report(y_test, pred_1, target_names=['Malignant', 'Benign']))\n",
        "\n",
        "print('C = 1')\n",
        "print(classification_report(y_test, pred_2, target_names=['Malignant', 'Benign']))\n",
        "\n",
        "print('C = 10')\n",
        "print(classification_report(y_test, pred_3, target_names=['Malignant', 'Benign']))"
      ]
    },
    {
      "cell_type": "markdown",
      "id": "0b73e5f2",
      "metadata": {
        "id": "0b73e5f2"
      },
      "source": [
        "Clearly, in setting C = 0.05 we have tuned the hyperparameter too aggressively and adversely affected the model's performance. Note how the F1 score is significantly lower for that variation than any other we have looked at.\n",
        "\n",
        "The logistic regression algorithm is a simple case for hyperparameter tuning because it only contains one value to tweak. Other models, like support vector machines, tree-based methods, and neural networks, contain many more hyperparameters – in most cases too many for the model architect to optimise on their own. In these cases, we use what is known as grid search: an iterative testing of multiple combinations of hyperparameters to find the optimal set. More on that later on."
      ]
    },
    {
      "cell_type": "markdown",
      "id": "599ffe0c",
      "metadata": {
        "id": "599ffe0c"
      },
      "source": [
        "## Conclusion\n",
        "\n",
        "In this train, we have seen or been introduced to:\n",
        "\n",
        "- The importance of carrying out a train/test split before doing any feature selection.\n",
        "- Feature subset selection by variance thresholding.\n",
        "- Feature subset selection by selecting the k-best features.\n",
        "- Feature subset selection by sequential forward selection.\n",
        "- Improving a model by tuning the hyperparameters."
      ]
    }
  ],
  "metadata": {
    "kernelspec": {
      "display_name": "Python 3 (ipykernel)",
      "language": "python",
      "name": "python3"
    },
    "language_info": {
      "codemirror_mode": {
        "name": "ipython",
        "version": 3
      },
      "file_extension": ".py",
      "mimetype": "text/x-python",
      "name": "python",
      "nbconvert_exporter": "python",
      "pygments_lexer": "ipython3",
      "version": "3.11.4"
    },
    "colab": {
      "provenance": [],
      "include_colab_link": true
    }
  },
  "nbformat": 4,
  "nbformat_minor": 5
}